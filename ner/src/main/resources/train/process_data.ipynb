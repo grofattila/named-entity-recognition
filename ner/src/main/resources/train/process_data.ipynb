{
 "cells": [
  {
   "cell_type": "code",
   "execution_count": 25,
   "metadata": {},
   "outputs": [
    {
     "name": "stdout",
     "output_type": "stream",
     "text": [
      "  President  B-per\n",
      "0    Karzai  I-per\n",
      "1   thanked      O\n",
      "2       his      O\n",
      "3    allies      O\n",
      "4       for      O\n",
      "118444\n"
     ]
    }
   ],
   "source": [
    "import pandas as pd\n",
    "import numpy as np\n",
    "\n",
    "train_dataset = pd.read_csv(\"./TrainSimple.csv\", delimiter=\";\")\n",
    "print(train_dataset.head())\n",
    "train_dataset_size = train_dataset.shape[0]\n",
    "print(train_dataset_size)"
   ]
  },
  {
   "cell_type": "code",
   "execution_count": 26,
   "metadata": {},
   "outputs": [
    {
     "name": "stdout",
     "output_type": "stream",
     "text": [
      "[['Karzai' 'I-per']\n",
      " ['thanked' 'O']\n",
      " ['his' 'O']\n",
      " ...\n",
      " ['foreign' 'O']\n",
      " ['investment' 'O']\n",
      " ['.' 'O']]\n"
     ]
    }
   ],
   "source": [
    "train_dataset = train_dataset.values\n",
    "print(train_dataset)"
   ]
  },
  {
   "cell_type": "code",
   "execution_count": 27,
   "metadata": {},
   "outputs": [],
   "source": [
    "to_be_deleted = []\n",
    "for i in range(0,train_dataset_size):\n",
    "    if train_dataset[i][1] == 'O':\n",
    "        to_be_deleted.append(i)\n",
    "train_dataset = np.delete(train_dataset, to_be_deleted[1000:], axis=0)  "
   ]
  },
  {
   "cell_type": "code",
   "execution_count": 28,
   "metadata": {},
   "outputs": [
    {
     "name": "stdout",
     "output_type": "stream",
     "text": [
      "19331\n",
      "[['Karzai' 'I-per']\n",
      " ['thanked' 'O']\n",
      " ['his' 'O']\n",
      " ...\n",
      " ['about' 'I-time']\n",
      " ['1990s' 'B-time']\n",
      " ['2004' 'B-time']]\n"
     ]
    }
   ],
   "source": [
    "train_dataset_size = train_dataset.shape[0]\n",
    "print(train_dataset_size)\n",
    "print(train_dataset)"
   ]
  },
  {
   "cell_type": "code",
   "execution_count": 32,
   "metadata": {},
   "outputs": [],
   "source": [
    "np.savetxt(\"train.csv\", train_dataset, delimiter=\"/t\", fmt='%s/t%s')"
   ]
  },
  {
   "cell_type": "code",
   "execution_count": null,
   "metadata": {},
   "outputs": [],
   "source": []
  }
 ],
 "metadata": {
  "kernelspec": {
   "display_name": "Python 3",
   "language": "python",
   "name": "python3"
  },
  "language_info": {
   "codemirror_mode": {
    "name": "ipython",
    "version": 3
   },
   "file_extension": ".py",
   "mimetype": "text/x-python",
   "name": "python",
   "nbconvert_exporter": "python",
   "pygments_lexer": "ipython3",
   "version": "3.6.5"
  }
 },
 "nbformat": 4,
 "nbformat_minor": 2
}
